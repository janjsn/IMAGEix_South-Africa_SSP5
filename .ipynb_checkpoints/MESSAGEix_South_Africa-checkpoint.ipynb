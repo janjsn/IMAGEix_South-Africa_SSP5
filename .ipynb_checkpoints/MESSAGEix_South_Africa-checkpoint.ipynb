{
 "cells": [
  {
   "cell_type": "markdown",
   "metadata": {},
   "source": [
    "# MESSAGEix South Africa model\n",
    "This notebook allows running the shale gas and carbon price scenarios described in the following manuscript:\n",
    "> Orthofer et al. (2019) South Africa After Paris - Fracking Its Way to the NDCs? *Frontiers in Energy Research* 7(20). doi: [10.3389/fenrg.2019.00020](https://doi.org/10.3389/fenrg.2019.00020)"
   ]
  },
  {
   "cell_type": "markdown",
   "metadata": {},
   "source": [
    "Note that the utils package imported below is part of the message_ix_south_africa repository. Before importing them, it is necessary to add the path to the root directory of the repository's local copy to the environment variable \"PYTHONPATH\" and (re-)start jupyter."
   ]
  },
  {
   "cell_type": "code",
   "execution_count": 1,
   "metadata": {},
   "outputs": [],
   "source": [
    "# Importing required packages\n",
    "from utils.run_scenarios import *\n",
    "from utils.pp_db_to_xlsx import results_to_xlsx\n",
    "from utils.pp_plot_emissions import plot_emissions\n",
    "from utils.pp_plot_power_sector import plot_power_sector\n",
    "from utils.pp_plot_heatmaps import plot_heatmap_comparison"
   ]
  },
  {
   "cell_type": "code",
   "execution_count": 2,
   "metadata": {},
   "outputs": [],
   "source": [
    "# define database and the baseline scenario\n",
    "model = 'MESSAGE South Africa'\n",
    "baseline = 'baseline'\n",
    "database = 'message_sa'"
   ]
  },
  {
   "cell_type": "code",
   "execution_count": 3,
   "metadata": {},
   "outputs": [],
   "source": [
    "# shale gas extraction costs (USDpMWh) & carbon costs (USDtCO2) to model\n",
    "# shale_cost = list(range(1, 32, 2)) + [10000]\n",
    "# carbon_cost = list(range(0, 62, 2))\n",
    "shale_cost = [1, 10, 30, 1000]\n",
    "carbon_cost = [0, 5, 15, 30]"
   ]
  },
  {
   "cell_type": "code",
   "execution_count": 5,
   "metadata": {},
   "outputs": [],
   "source": [
    "import pandas as pd\n",
    "from itertools import product\n",
    "import ixmp\n",
    "import message_ix\n",
    "import os"
   ]
  },
  {
   "cell_type": "code",
   "execution_count": 8,
   "metadata": {},
   "outputs": [
    {
     "name": "stderr",
     "output_type": "stream",
     "text": [
      "C:\\Users\\jansn\\AppData\\Local\\Continuum\\anaconda3\\lib\\site-packages\\jpype\\_core.py:210: UserWarning: \n",
      "-------------------------------------------------------------------------------\n",
      "Deprecated: convertStrings was not specified when starting the JVM. The default\n",
      "behavior in JPype will be False starting in JPype 0.8. The recommended setting\n",
      "for new code is convertStrings=False.  The legacy value of True was assumed for\n",
      "this session. If you are a user of an application that reported this warning,\n",
      "please file a ticket with the developer.\n",
      "-------------------------------------------------------------------------------\n",
      "\n",
      "  \"\"\")\n",
      "INFO:root:launching ixmp.Platform with local HSQLDB database at 'db/message_sa'\n"
     ]
    }
   ],
   "source": [
    "mp = ixmp.Platform(dbprops=f'db/{database}', dbtype='HSQLDB')\n",
    "base = message_ix.Scenario(mp, model=model, scenario=baseline)\n"
   ]
  },
  {
   "cell_type": "code",
   "execution_count": 12,
   "metadata": {},
   "outputs": [
    {
     "data": {
      "text/plain": [
       "<module 'pandas' from 'C:\\\\Users\\\\jansn\\\\AppData\\\\Local\\\\Continuum\\\\anaconda3\\\\lib\\\\site-packages\\\\pandas\\\\__init__.py'>"
      ]
     },
     "execution_count": 12,
     "metadata": {},
     "output_type": "execute_result"
    }
   ],
   "source": [
    "pd.DataFrame"
   ]
  },
  {
   "cell_type": "code",
   "execution_count": 9,
   "metadata": {},
   "outputs": [
    {
     "data": {
      "text/plain": [
       "0      methanol\n",
       "1      rc_therm\n",
       "2          coal\n",
       "3       i_therm\n",
       "4       rc_spec\n",
       "5     transport\n",
       "6        i_feed\n",
       "7       biomass\n",
       "8      non-comm\n",
       "9        electr\n",
       "10     lightoil\n",
       "11     crudeoil\n",
       "12          gas\n",
       "13      fueloil\n",
       "14       i_spec\n",
       "15         wind\n",
       "16     solar_th\n",
       "17        hydro\n",
       "18     shalegas\n",
       "19     solar_pv\n",
       "dtype: object"
      ]
     },
     "execution_count": 9,
     "metadata": {},
     "output_type": "execute_result"
    }
   ],
   "source": [
    "# Seeing members of a set\n",
    "base.set('commodity')"
   ]
  },
  {
   "cell_type": "code",
   "execution_count": null,
   "metadata": {},
   "outputs": [],
   "source": [
    "base.set('technology')"
   ]
  },
  {
   "cell_type": "code",
   "execution_count": 10,
   "metadata": {},
   "outputs": [
    {
     "data": {
      "text/plain": [
       "array(['year', 'node', 'technology', 'relation', 'emission',\n",
       "       'land_scenario', 'land_type', 'lvl_spatial', 'time',\n",
       "       'lvl_temporal', 'type_node', 'type_tec', 'type_year',\n",
       "       'type_emission', 'type_relation', 'mode', 'grade', 'level',\n",
       "       'commodity', 'rating', 'shares', 'type_addon', 'sector',\n",
       "       'map_spatial_hierarchy', 'map_node', 'map_temporal_hierarchy',\n",
       "       'map_time', 'cat_node', 'cat_tec', 'cat_year', 'cat_emission',\n",
       "       'type_tec_land', 'cat_relation', 'level_resource',\n",
       "       'level_renewable', 'level_stocks', 'map_shares_commodity_total',\n",
       "       'map_shares_commodity_share', 'addon', 'cat_addon',\n",
       "       'map_tec_addon', 'mapping_macro_sector'], dtype='<U26')"
      ]
     },
     "execution_count": 10,
     "metadata": {},
     "output_type": "execute_result"
    }
   ],
   "source": [
    "base.set_list()"
   ]
  },
  {
   "cell_type": "code",
   "execution_count": null,
   "metadata": {},
   "outputs": [],
   "source": [
    "# run the scenarios\n",
    "run_scenarios(model, baseline, database, shale_cost, carbon_cost)"
   ]
  },
  {
   "cell_type": "code",
   "execution_count": null,
   "metadata": {},
   "outputs": [],
   "source": [
    "# run the postprocessing\n",
    "results_to_xlsx(model, baseline, database, shale_cost, carbon_cost)"
   ]
  },
  {
   "cell_type": "code",
   "execution_count": null,
   "metadata": {},
   "outputs": [],
   "source": [
    "# plot ghg-emissions over the model horizon\n",
    "plot_emissions()"
   ]
  },
  {
   "cell_type": "code",
   "execution_count": null,
   "metadata": {},
   "outputs": [],
   "source": [
    "# plot energy and capacity mix of the power sector\n",
    "plot_power_sector()"
   ]
  },
  {
   "cell_type": "code",
   "execution_count": null,
   "metadata": {},
   "outputs": [],
   "source": [
    "# plot the scenario analysis heat maps - the variable 'years' indicates\n",
    "# which years are presented in the plot\n",
    "plot_heatmap_comparison(years=[2050])"
   ]
  },
  {
   "cell_type": "code",
   "execution_count": null,
   "metadata": {},
   "outputs": [],
   "source": []
  }
 ],
 "metadata": {
  "kernelspec": {
   "display_name": "Python 3",
   "language": "python",
   "name": "python3"
  },
  "language_info": {
   "codemirror_mode": {
    "name": "ipython",
    "version": 3
   },
   "file_extension": ".py",
   "mimetype": "text/x-python",
   "name": "python",
   "nbconvert_exporter": "python",
   "pygments_lexer": "ipython3",
   "version": "3.7.4"
  }
 },
 "nbformat": 4,
 "nbformat_minor": 4
}
